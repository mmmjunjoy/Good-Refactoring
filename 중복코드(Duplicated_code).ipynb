{
  "nbformat": 4,
  "nbformat_minor": 0,
  "metadata": {
    "colab": {
      "provenance": []
    },
    "kernelspec": {
      "name": "python3",
      "display_name": "Python 3"
    },
    "language_info": {
      "name": "python"
    }
  },
  "cells": [
    {
      "cell_type": "code",
      "execution_count": null,
      "metadata": {
        "id": "pgfCwMcF8twA"
      },
      "outputs": [],
      "source": [
        "# 리팩토링"
      ]
    },
    {
      "cell_type": "code",
      "source": [
        "# 리팩토링\n",
        "# 중복 코드(Duplicated code)\n",
        "\n",
        "# 코드가 중복되면 각각을 볼 때마다 서로 차이점은 없는지 주의 깊게 살펴봐야 하는 부담이 생긴다.\n",
        "# 그중 하나를 변경할 때는 다른 비슷한 콛들도 모두 살펴보고 수행해야 한다.\n",
        "\n",
        "#가장 간단한 예로 , 한 클래스에 딸린 두 메서드가 똑같은 표현식을 사용하는 경우\n",
        "\n",
        "# 위 예의 리팩터링 기법은 1. 함수 추출하기 2. 문장 슬라이드 하기 3. 메서드 올리기 가 있다.\n",
        "\n",
        "\n",
        "#1. 함수 추출하기 \n",
        "\n",
        "# 함수 하나가 한 화면을 넘어갈때(길이) , 두 번 이상 사용될 것 같을때(재사용성) , 목적과 구현을 분리함(코드를 보고 무슨일을 하는지 파악하기가 힘들때)\n"
      ],
      "metadata": {
        "id": "Nr7fOB4nd8jl"
      },
      "execution_count": null,
      "outputs": []
    },
    {
      "cell_type": "code",
      "source": [
        "\n",
        "#1. 함수 추출하기 \n",
        "\n",
        "\n",
        "\n",
        "#before\n",
        "\n",
        "\n",
        "\n",
        "def print_owing(invoice):\n",
        "    print_banner()\n",
        "    outstanding = calculate_outstanding()\n",
        "\n",
        "\n",
        "    #세부 사항 출력\n",
        "    print(f'고객명: {invoice.customer}')\n",
        "    print(f'채무액: {outstanding}')"
      ],
      "metadata": {
        "id": "uCwKwUwtd8l1"
      },
      "execution_count": 1,
      "outputs": []
    },
    {
      "cell_type": "code",
      "source": [
        "# After\n",
        "\n",
        "def print_owing(invoice):\n",
        "\n",
        "    def print_detail(outstanding):\n",
        "        print(f'고객명:{invoice.customer}')\n",
        "        print(f'채무액:{outstanding}')\n",
        "\n",
        "    print_banner()\n",
        "    outstanding = calculate_outstanding()\n",
        "    print_details(outstanding)\n",
        "\n",
        "    #함수가 짧으면 캐싱하기가 더 쉽기때문에 컴파일러가 최적화하는데는 유리할 수 있다."
      ],
      "metadata": {
        "id": "xv4nAu-7d8oH"
      },
      "execution_count": 3,
      "outputs": []
    },
    {
      "cell_type": "code",
      "source": [],
      "metadata": {
        "id": "4YczomxGd8sU"
      },
      "execution_count": null,
      "outputs": []
    }
  ]
}