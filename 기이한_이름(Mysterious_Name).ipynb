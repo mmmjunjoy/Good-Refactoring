{
  "nbformat": 4,
  "nbformat_minor": 0,
  "metadata": {
    "colab": {
      "provenance": []
    },
    "kernelspec": {
      "name": "python3",
      "display_name": "Python 3"
    },
    "language_info": {
      "name": "python"
    }
  },
  "cells": [
    {
      "cell_type": "code",
      "execution_count": null,
      "metadata": {
        "id": "_cCl8Du9vKJE"
      },
      "outputs": [],
      "source": [
        "# 리팩터링"
      ]
    },
    {
      "cell_type": "code",
      "source": [
        "\n",
        "\n",
        "# <기이한 이름 (Mysterious Name)>\n",
        "\n",
        "# 코드를 명료하게 표현하는데 가장 중요한 요소 하나는 바로 '이름' 이다.\n",
        "# 함수,모듈,변수,클래스 등은 그 이름만 보고도 각각 무슨 일을 하고 어떻게 사용해야 하는지 명확히 알 수 있도록\n",
        "# 엄청나게 신경 써서 이름을 지어야 한다.\n",
        "\n",
        "# 방법 1. 함수 선언 바꾸기 \n",
        "\n",
        "# Change Function Declaration\n",
        "\n",
        "# 마이그레이션 절차가 있다.\n",
        "\n",
        "import math \n",
        "from math import pi\n",
        "\n",
        "# math import 할 경우 pi 와 같은 것을 쓰기 수월하다.\n",
        "\n",
        "\n",
        "# 예시 \n",
        "\n",
        "\n",
        "def circum(radius):\n",
        "  \n",
        "    return 2 * math.pi * radius\n",
        "\n",
        "\n",
        "\n",
        "# 위 함수를 더 이해하기 쉽게 바꾼다.\n",
        "# 구체적으로 변환\n",
        "\n",
        "def cicrumference(radius):\n",
        "    return 2 * math.pi * radius\n",
        "\n",
        "print(circum(2))\n",
        "print(pi)\n"
      ],
      "metadata": {
        "colab": {
          "base_uri": "https://localhost:8080/"
        },
        "id": "5X6n4e5qxwY9",
        "outputId": "5f5f4245-4eaf-4959-fb91-87fa6ae2d593"
      },
      "execution_count": 1,
      "outputs": [
        {
          "output_type": "stream",
          "name": "stdout",
          "text": [
            "12.566370614359172\n",
            "3.141592653589793\n"
          ]
        }
      ]
    },
    {
      "cell_type": "code",
      "source": [
        "# 방법 2. 변수 이름 바꾸기\n",
        "\n",
        "\n",
        "# 예시 (상수 바꾸기)\n",
        "\n",
        "const_cpynm = \"애크미 구스베리\"\n",
        "\n",
        "#print(const_cpynm)\n",
        "\n",
        "\n",
        "# 상수 이름 바꾸기\n",
        "\n",
        "const_companyname = \"애크미 구스베리입니다\"\n",
        "\n",
        "const_cpynm = const_companyname\n",
        "\n",
        "print(const_cpynm)\n",
        "\n",
        "# 새 이름으로 선언한 다음 기존 이름에 복사하는 방식이 조금이라도 쉽다면 후자를 선택한다.\n"
      ],
      "metadata": {
        "colab": {
          "base_uri": "https://localhost:8080/"
        },
        "id": "15dq5cmfxwbl",
        "outputId": "dc68f15a-0a86-4ac8-81de-f7b728087d97"
      },
      "execution_count": 2,
      "outputs": [
        {
          "output_type": "stream",
          "name": "stdout",
          "text": [
            "애크미 구스베리입니다\n"
          ]
        }
      ]
    },
    {
      "cell_type": "code",
      "source": [],
      "metadata": {
        "id": "ublShY6sxwdy"
      },
      "execution_count": null,
      "outputs": []
    },
    {
      "cell_type": "code",
      "source": [],
      "metadata": {
        "id": "QpJOC70TxwgG"
      },
      "execution_count": null,
      "outputs": []
    },
    {
      "cell_type": "code",
      "source": [],
      "metadata": {
        "id": "e7H0kd2vxwic"
      },
      "execution_count": null,
      "outputs": []
    },
    {
      "cell_type": "code",
      "source": [],
      "metadata": {
        "id": "Rc2wA_VIxwkr"
      },
      "execution_count": null,
      "outputs": []
    },
    {
      "cell_type": "code",
      "source": [],
      "metadata": {
        "id": "M9zBmifVxwmq"
      },
      "execution_count": null,
      "outputs": []
    },
    {
      "cell_type": "code",
      "source": [],
      "metadata": {
        "id": "2tSGLCpgxwpF"
      },
      "execution_count": null,
      "outputs": []
    }
  ]
}